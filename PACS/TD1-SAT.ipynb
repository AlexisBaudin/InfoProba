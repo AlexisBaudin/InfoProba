{
 "cells": [
  {
   "cell_type": "code",
   "execution_count": 72,
   "metadata": {
    "ExecuteTime": {
     "end_time": "2017-11-13T18:16:11.600938",
     "start_time": "2017-11-13T18:16:11.594894"
    },
    "collapsed": false,
    "hide_input": false,
    "slideshow": {
     "slide_type": "skip"
    }
   },
   "outputs": [
    {
     "name": "stdout",
     "output_type": "stream",
     "text": [
      "Populating the interactive namespace from numpy and matplotlib\n"
     ]
    }
   ],
   "source": [
    "%pylab inline"
   ]
  },
  {
   "cell_type": "markdown",
   "metadata": {
    "slideshow": {
     "slide_type": "slide"
    }
   },
   "source": [
    "# SAT problem: generating a random formula"
   ]
  },
  {
   "cell_type": "markdown",
   "metadata": {
    "slideshow": {
     "slide_type": "slide"
    }
   },
   "source": [
    "$$F = (x_1\\lor\n",
    "x_2 \\lor \\lnot x_3) \\land (x_1\\lor\\lnot x_2 \\lor x_3) \\land (x_2\\lor\n",
    "x_3 \\lor x_4)\\land (x_4\\lor x_5 \\lor \\lnot x_6).$$ "
   ]
  },
  {
   "cell_type": "code",
   "execution_count": 73,
   "metadata": {
    "ExecuteTime": {
     "end_time": "2017-11-13T18:16:14.187184",
     "start_time": "2017-11-13T18:16:14.181742"
    },
    "collapsed": false,
    "slideshow": {
     "slide_type": "subslide"
    }
   },
   "outputs": [
    {
     "name": "stdout",
     "output_type": "stream",
     "text": [
      "[[ 1  2 -3]\n",
      " [ 1 -2  3]\n",
      " [ 2  3  4]\n",
      " [ 4  5 -6]]\n",
      "[1 1 1 0 0 1]\n"
     ]
    }
   ],
   "source": [
    "n = 6\n",
    "m = 4\n",
    "f = array([[1,2,-3],[1,-2,3],[2,3,4],[4,5,-6]])\n",
    "print(f)\n",
    "x = array([1,1,1,0,0,1])\n",
    "print(x)"
   ]
  },
  {
   "cell_type": "markdown",
   "metadata": {},
   "source": [
    "eval: first-1 clause that is not satisfied by the instance $x$ (returns $m$ if the formula is satisfied)"
   ]
  },
  {
   "cell_type": "code",
   "execution_count": 74,
   "metadata": {
    "ExecuteTime": {
     "end_time": "2017-11-13T18:16:17.296349",
     "start_time": "2017-11-13T18:16:17.289622"
    },
    "collapsed": true,
    "hide_input": false
   },
   "outputs": [],
   "source": [
    "def eval(form, x, n, m):\n",
    "    j = 0\n",
    "    p = 1\n",
    "    while j < m and p > 0:\n",
    "        p=0\n",
    "        for k in range(3):\n",
    "            if form[j,k] > 0:\n",
    "                p = p + x[form[j,k]-1]\n",
    "            else:\n",
    "                p = p + (1-x[-form[j,k]-1])\n",
    "        j += 1\n",
    "    if p == 0:\n",
    "        return j-1\n",
    "    else:\n",
    "        return j"
   ]
  },
  {
   "cell_type": "code",
   "execution_count": 76,
   "metadata": {
    "ExecuteTime": {
     "end_time": "2017-11-13T18:16:52.443520",
     "start_time": "2017-11-13T18:16:52.439656"
    },
    "collapsed": false,
    "hide_input": false
   },
   "outputs": [
    {
     "name": "stdout",
     "output_type": "stream",
     "text": [
      "3\n"
     ]
    }
   ],
   "source": [
    "print(eval(f, x, 6, 4))"
   ]
  },
  {
   "cell_type": "code",
   "execution_count": 5,
   "metadata": {
    "ExecuteTime": {
     "end_time": "2017-11-13T11:47:13.858961",
     "start_time": "2017-11-13T11:47:13.826161"
    },
    "collapsed": true,
    "hide_input": false
   },
   "outputs": [],
   "source": [
    "def rand_form(n, m):\n",
    "    form = np.zeros((m, 3), int)\n",
    "    for j in range(m):\n",
    "        for k in range(3):\n",
    "            form[j, k] = randint(n) + 1\n",
    "            if randint(2):\n",
    "                form[j, k] = -form[j, k]\n",
    "    return form"
   ]
  },
  {
   "cell_type": "markdown",
   "metadata": {
    "ExecuteTime": {
     "end_time": "2017-11-13T17:59:41.348840",
     "start_time": "2017-11-13T17:59:41.345342"
    }
   },
   "source": [
    "# Checking satisfiability algorithms"
   ]
  },
  {
   "cell_type": "markdown",
   "metadata": {
    "ExecuteTime": {
     "end_time": "2017-11-13T10:51:01.545479",
     "start_time": "2017-11-13T10:51:01.543244"
    }
   },
   "source": [
    "## Monte-Carlo algorithm"
   ]
  },
  {
   "cell_type": "markdown",
   "metadata": {},
   "source": [
    "Monte-Carlo Algorithm\n",
    "- Generates a random instance\n",
    "- returns ```true``` is the instance satisfies the formula and ```false``` otherwise\n",
    "\n",
    "In order to minimize the error probability, we generate up to $t_{\\max}$ random instances."
   ]
  },
  {
   "cell_type": "code",
   "execution_count": 6,
   "metadata": {
    "ExecuteTime": {
     "end_time": "2017-11-13T11:47:16.582474",
     "start_time": "2017-11-13T11:47:16.576066"
    },
    "collapsed": true
   },
   "outputs": [],
   "source": [
    "def mc(form, n, m, tmax):\n",
    "    k = 0\n",
    "    r = 0\n",
    "    x = randint(2, size = n)\n",
    "    while r < m and k < tmax:\n",
    "        x=randint(2,size = n)\n",
    "        r=eval(form, x ,n, m)\n",
    "        k+=1\n",
    "    return k-1"
   ]
  },
  {
   "cell_type": "markdown",
   "metadata": {},
   "source": [
    "## Constructive Local Lovász Lemma approach"
   ]
  },
  {
   "cell_type": "markdown",
   "metadata": {},
   "source": [
    "- Generates a random instance\n",
    "- while the formula is not satisfied, \n",
    "    - let $j$ an unsatisfied clause\n",
    "    - generate independently the variables of that clause\n",
    "    \n",
    "As we apply this algorithm outside the hypotheses of LLL, we stop after $t_{\\max}$ attempts"
   ]
  },
  {
   "cell_type": "code",
   "execution_count": 7,
   "metadata": {
    "ExecuteTime": {
     "end_time": "2017-11-13T11:47:18.870059",
     "start_time": "2017-11-13T11:47:18.848241"
    },
    "collapsed": true
   },
   "outputs": [],
   "source": [
    "def lll(form,n,m,tmax):\n",
    "    k=0\n",
    "    x=randint(2,size=n)\n",
    "    r=eval(form,x,n,m)\n",
    "    while r<m and k<tmax:\n",
    "        k+=1\n",
    "        for l in range(3):\n",
    "            i = max(form[r,l],-form[r,l])-1\n",
    "            x[i] = randint(2)\n",
    "        r = eval(form,x,n,m)\n",
    "    return k"
   ]
  },
  {
   "cell_type": "markdown",
   "metadata": {
    "ExecuteTime": {
     "end_time": "2017-11-13T11:01:43.230515",
     "start_time": "2017-11-13T11:01:43.225948"
    }
   },
   "source": [
    "## Comparison of the performances of the two algorithms"
   ]
  },
  {
   "cell_type": "code",
   "execution_count": 10,
   "metadata": {
    "ExecuteTime": {
     "end_time": "2017-11-13T11:50:05.034209",
     "start_time": "2017-11-13T11:47:39.512368"
    },
    "collapsed": false,
    "hide_input": true
   },
   "outputs": [],
   "source": [
    "n=20\n",
    "mmax = 100\n",
    "\n",
    "nbf = 50\n",
    "\n",
    "tmax = 1000\n",
    "\n",
    "alpha = arange(mmax)\n",
    "mc_tab = zeros(mmax)\n",
    "lll_tab = zeros(mmax)\n",
    "\n",
    "m=1\n",
    "while m<mmax:\n",
    "    for i in range(nbf):\n",
    "        f = rand_form(n,m+1)\n",
    "        mc_tab[m]+=mc(f,n,m,tmax)\n",
    "        lll_tab[m]+=lll(f,n,m,tmax)\n",
    "    mc_tab[m] = mc_tab[m]/nbf\n",
    "    lll_tab[m] = lll_tab[m]/nbf\n",
    "    m+=1\n",
    "    "
   ]
  },
  {
   "cell_type": "code",
   "execution_count": 69,
   "metadata": {
    "ExecuteTime": {
     "end_time": "2017-11-13T18:15:21.476551",
     "start_time": "2017-11-13T18:15:21.307344"
    },
    "collapsed": false,
    "hide_input": true
   },
   "outputs": [
    {
     "data": {
      "image/png": "[encoded data removed]",
      "text/plain": [
       "<matplotlib.figure.Figure at 0x7f6483f11710>"
      ]
     },
     "metadata": {},
     "output_type": "display_data"
    }
   ],
   "source": [
    "xlabel('m/n, n=20')\n",
    "ylabel('average number of setps')\n",
    "plot(alpha/n,mc_tab, label = 'MC')\n",
    "plot(alpha/n,lll_tab, label = 'LLL')   \n",
    "plt.legend()\n",
    "show()"
   ]
  },
  {
   "cell_type": "markdown",
   "metadata": {
    "hide_input": true
   },
   "source": [
    "# A threshold function for satisfiability"
   ]
  },
  {
   "cell_type": "code",
   "execution_count": 37,
   "metadata": {
    "ExecuteTime": {
     "end_time": "2017-11-13T13:10:04.475638",
     "start_time": "2017-11-13T13:08:50.924651"
    },
    "collapsed": false,
    "hide_input": true
   },
   "outputs": [],
   "source": [
    "nbf = 50\n",
    "\n",
    "n=10\n",
    "\n",
    "mmax = 75\n",
    "\n",
    "tmax = 1000\n",
    "\n",
    "alpha10 = arange(mmax)\n",
    "sat10_tab = zeros(mmax)\n",
    "\n",
    "m=0\n",
    "while m<mmax:\n",
    "    for i in range(nbf):\n",
    "        f = rand_form(n,m+1)\n",
    "        if lll(f,n,m,tmax) < tmax:\n",
    "            sat10_tab[m]+=1\n",
    "    m+=1\n",
    "    \n",
    "\n",
    "    "
   ]
  },
  {
   "cell_type": "code",
   "execution_count": 38,
   "metadata": {
    "ExecuteTime": {
     "end_time": "2017-11-13T13:14:35.661468",
     "start_time": "2017-11-13T13:10:04.476552"
    },
    "collapsed": true,
    "hide_input": true
   },
   "outputs": [],
   "source": [
    "n=20\n",
    "\n",
    "mmax = 150\n",
    "\n",
    "tmax = 1000\n",
    "\n",
    "\n",
    "alpha20 = arange(mmax)\n",
    "sat20_tab = zeros(mmax)\n",
    "\n",
    "m=0\n",
    "while m<mmax:\n",
    "    for i in range(nbf):\n",
    "        f = rand_form(n,m+1)\n",
    "        if lll(f,n,m,tmax) < tmax:\n",
    "            sat20_tab[m]+=1\n",
    "    m+=1\n",
    "    "
   ]
  },
  {
   "cell_type": "code",
   "execution_count": 39,
   "metadata": {
    "ExecuteTime": {
     "end_time": "2017-11-13T13:24:44.084749",
     "start_time": "2017-11-13T13:14:35.662839"
    },
    "collapsed": true,
    "hide_input": true
   },
   "outputs": [],
   "source": [
    "n=30\n",
    "\n",
    "mmax = 225\n",
    "\n",
    "tmax = 1000\n",
    "\n",
    "alpha30 = arange(mmax)\n",
    "sat30_tab = zeros(mmax)\n",
    "\n",
    "m=0\n",
    "while m<mmax:\n",
    "    for i in range(nbf):\n",
    "        f = rand_form(n,m+1)\n",
    "        if lll(f,n,m,tmax) < tmax:\n",
    "            sat30_tab[m]+=1\n",
    "    m+=1\n",
    "    "
   ]
  },
  {
   "cell_type": "code",
   "execution_count": 64,
   "metadata": {
    "ExecuteTime": {
     "end_time": "2017-11-13T13:40:46.496776",
     "start_time": "2017-11-13T13:40:46.223654"
    },
    "collapsed": false,
    "hide_input": true
   },
   "outputs": [
    {
     "data": {
      "image/png": "[encoded data removed]",
      "text/plain": [
       "<matplotlib.figure.Figure at 0x7f648367a4e0>"
      ]
     },
     "metadata": {},
     "output_type": "display_data"
    }
   ],
   "source": [
    "plot(alpha10/10,sat10_tab/nbf, label=r'$n=10$')\n",
    "plot(alpha20/20,sat20_tab/nbf, label=r'$n=20$')\n",
    "plot(alpha30/30,sat30_tab/nbf, label=r'$n=30$')\n",
    "xlabel('m/n')\n",
    "ylabel('proportion of satisfiable formulas')\n",
    "plt.plot((4.27, 4.27), (0, 1), 'k-')\n",
    "plt.plot((0, 7.5), (0.5, 0.5), 'k-')\n",
    "plt.legend()\n",
    "show()"
   ]
  },
  {
   "cell_type": "markdown",
   "metadata": {
    "ExecuteTime": {
     "end_time": "2017-11-13T13:40:14.971386",
     "start_time": "2017-11-13T13:40:14.969159"
    }
   },
   "source": [
    "## Exercise: An easy upper bound for the threshold"
   ]
  },
  {
   "cell_type": "markdown",
   "metadata": {},
   "source": [
    "We consider the following model for the 3-SAT problem: \n",
    "- $\\mathcal{F}_{n,m}$ is the probabilistic space of 3-SAT formulas with $n$ variables and where $m$ clauses are generated uniformly and independently;\n",
    "- we denote $F_{n,m}$ a random formula in $\\mathcal{F}_{n,m}$;\n",
    "- we let $n$ and $m$ grow to infinity with a fixed ratio $r$: $m=nr$.\n",
    "\n",
    "The goal is to determine a ratio $\\alpha$ such that for all $r>\\alpha$, $\\mathbf{P}(F_{n,rn} \\text{ is satisfiable }) \\overset{n\\to\\infty}\\longrightarrow 0$."
   ]
  },
  {
   "cell_type": "markdown",
   "metadata": {
    "collapsed": true,
    "solution": "hidden",
    "solution_first": true
   },
   "source": [
    "**Question 1:** Fix an affectation $A$ of the variables. What is the probability that $A$ satisfies $F_{n,m}$?"
   ]
  },
  {
   "cell_type": "markdown",
   "metadata": {
    "solution": "hidden"
   },
   "source": [
    "**Solution: ** Let $C$ be a random clause. It is satisfied with probability $7/8$: three variables are choseen at random and their sign is also chosen at random. \n",
    "As the $m$ clauses are chosen independently, the probability that they are all satisfied is $(7/8)^m$. "
   ]
  },
  {
   "cell_type": "markdown",
   "metadata": {
    "solution": "hidden",
    "solution_first": true
   },
   "source": [
    "** Question 2:** Deduce an upper bound for $F_{n,m}$ to be satisfiable."
   ]
  },
  {
   "cell_type": "markdown",
   "metadata": {
    "ExecuteTime": {
     "end_time": "2017-11-13T17:44:55.875251",
     "start_time": "2017-11-13T17:44:55.870477"
    },
    "solution": "hidden"
   },
   "source": [
    "**Solution: ** $F_{n,m}$ is satisfiable if and only if there exists one assignment that satisfies it. \n",
    "We use the union bound:\n",
    "    $$\\mathbf{P}(F_{n,m} \\text{ satisfiable}) \\leq \\sum_{A \\text{ affectation}} \\mathbf{P}(A \\text{ satisfies }F_{n,m})  = 2^n (7/8)^m.$$"
   ]
  },
  {
   "cell_type": "markdown",
   "metadata": {
    "solution": "hidden",
    "solution_first": true
   },
   "source": [
    "** Question 3:** Deduce an upper bound for $\\alpha$."
   ]
  },
  {
   "cell_type": "markdown",
   "metadata": {
    "ExecuteTime": {
     "end_time": "2017-11-13T17:51:03.695636",
     "start_time": "2017-11-13T17:51:03.688375"
    },
    "solution": "hidden"
   },
   "source": [
    "** Solution: ** We need that $\\mathbf{P}(F_{n,rn} \\text{ satisfiable})\\overset{n\\to\\infty}\\longrightarrow 0$. It the suffices that $2(7/8)^r<1$, which is equivalent to \n",
    "$r>\\frac{\\ln 2}{\\ln{8/7}} = \\frac{1}{3-log_2 7}$. \n",
    "This gives $r = 5.2$\n",
    "\n"
   ]
  },
  {
   "cell_type": "code",
   "execution_count": null,
   "metadata": {
    "collapsed": true,
    "solution": "hidden"
   },
   "outputs": [],
   "source": []
  }
 ],
 "metadata": {
  "kernelspec": {
   "display_name": "Python 3",
   "language": "python",
   "name": "python3"
  },
  "language_info": {
   "codemirror_mode": {
    "name": "ipython",
    "version": 3
   },
   "file_extension": ".py",
   "mimetype": "text/x-python",
   "name": "python",
   "nbconvert_exporter": "python",
   "pygments_lexer": "ipython3",
   "version": "3.6.0"
  },
  "latex_envs": {
   "LaTeX_envs_menu_present": false,
   "bibliofile": "biblio.bib",
   "cite_by": "apalike",
   "current_citInitial": 1,
   "eqLabelWithNumbers": false,
   "eqNumInitial": 1,
   "hotkeys": {},
   "labels_anchors": false,
   "latex_user_defs": false,
   "report_style_numbering": false,
   "user_envs_cfg": false
  },
  "toc": {
   "colors": {
    "hover_highlight": "#DAA520",
    "running_highlight": "#FF0000",
    "selected_highlight": "#FFD700"
   },
   "moveMenuLeft": true,
   "nav_menu": {
    "height": "115px",
    "width": "252px"
   },
   "navigate_menu": true,
   "number_sections": true,
   "sideBar": true,
   "threshold": 4,
   "toc_cell": false,
   "toc_section_display": "block",
   "toc_window_display": false
  }
 },
 "nbformat": 4,
 "nbformat_minor": 2
}
