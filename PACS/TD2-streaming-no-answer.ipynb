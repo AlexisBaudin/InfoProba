{
 "cells": [
  {
   "cell_type": "code",
   "execution_count": 2,
   "metadata": {
    "ExecuteTime": {
     "end_time": "2017-11-17T14:33:24.817728",
     "start_time": "2017-11-17T14:33:24.362655"
    },
    "collapsed": false,
    "hide_input": false,
    "solution": "hidden"
   },
   "outputs": [
    {
     "name": "stdout",
     "output_type": "stream",
     "text": [
      "Populating the interactive namespace from numpy and matplotlib\n"
     ]
    }
   ],
   "source": [
    "%pylab inline"
   ]
  },
  {
   "cell_type": "markdown",
   "metadata": {},
   "source": [
    "# Algorithmes en ligne"
   ]
  },
  {
   "cell_type": "markdown",
   "metadata": {},
   "source": [
    "## Exercice préliminaire : le collectionneur de coupons"
   ]
  },
  {
   "cell_type": "markdown",
   "metadata": {},
   "source": [
    "Un individu collectionne les images dans les boîtes de céréales. Chaque boîte en contient une\n",
    "et une seule, et il y a $n$ images différentes au total.\n",
    "L’image contenue dans une boîte est choisie uniformément parmi les $n$ images, et indépendam-\n",
    "ment des autres boîtes.\n",
    "On note $X_i$ la variable aléatoire du nombre de boîtes ouvertes jusqu’à l’obtention de $i$ images\n",
    "différentes, et $X$ la variable aléatoire du nombre de boîtes à ouvrir au total (donc $X = X_n$ )."
   ]
  },
  {
   "cell_type": "markdown",
   "metadata": {},
   "source": [
    "** Question 1 :** Écrire une procédure qui simule le processus. Tracer la courbe qui donne la moyenne empirique du nombre de boîtes à acheter en fonction de $n$ le nombre d'images à collectionner."
   ]
  },
  {
   "cell_type": "markdown",
   "metadata": {},
   "source": [
    "**Question 2 :** Que vaut $X_1$ ? Quelle est la distribution de $X_i − X_{i−1}$ pour $2 \\leq i \\leq n $? \n",
    "    En déduire une procédure plus simple qui calcule le nombre de boîtes à ouvrir."
   ]
  },
  {
   "cell_type": "markdown",
   "metadata": {
    "ExecuteTime": {
     "end_time": "2017-11-14T21:10:13.712538",
     "start_time": "2017-11-14T21:10:13.706827"
    }
   },
   "source": [
    "**Question 3 : **  Combien de boîtes faut-il acheter en moyenne pour obtenir toutes les images ? (on donnera\n",
    "aussi l’ordre de grandeur asymptotique quand n est grand). Corroborer avec les résultats expérimentaux."
   ]
  },
  {
   "cell_type": "markdown",
   "metadata": {},
   "source": [
    "** Question 4 : ** On s'intéresse à la probabilité que le nombre de boîtes achetées soit supérieure à $2n H(n)$, où $H(n) = \\sum_{i=1}^{n} \\frac 1 i$. \n",
    "Tracer la courbe expérimentale basée sur les procédures données en **Q1/2** et comparer avec les trois bornes obtenues par:\n",
    "\n",
    "- inegalité de Markov\n",
    "- inegalité de Tchebychev\n",
    "- une autres inégalité obtenue en calculant tout d'abord la probabilité que l'image $i$ n'est  tirée aucune des $2H(n)$ boîtes\n"
   ]
  },
  {
   "cell_type": "markdown",
   "metadata": {},
   "source": [
    "## Échantillonage en ligne sur les $k$ derniers éléments reçus"
   ]
  },
  {
   "cell_type": "markdown",
   "metadata": {},
   "source": [
    "Considérons un flot de données $n_1,n_2,\\ldots,n_t$. Une fois reçu\n",
    "  ce flot, on veut générer de manière uniforme un nombre parmi les $w$\n",
    "  derniers reçus (la probabilité $\\mathbf{P}(X=k)$ est proportionnelle au\n",
    "  nombre de $k$ reçus parmi les $w$ derniers nombres). On suppose que\n",
    "  $w$ n'est pas connu à l'avance."
   ]
  },
  {
   "cell_type": "markdown",
   "metadata": {},
   "source": [
    "** Question 1 : ** Comment faire avec une mémoire en $O(t)$ nombres ?"
   ]
  },
  {
   "cell_type": "markdown",
   "metadata": {},
   "source": [
    "Le but de cet exercice est de montrer que l'on peut faire beaucoup mieux en moyenne. Soient $X_1,X_2,\\ldots,X_t$ $t$ variables aléatoires uniformément distribuées sur $[0,1]$. On admet que deux v.a. uniformément distribuées sur $[0,1]$ ont même valeur avec probabilité $0$. "
   ]
  },
  {
   "cell_type": "markdown",
   "metadata": {
    "ExecuteTime": {
     "end_time": "2017-11-14T21:22:39.524276",
     "start_time": "2017-11-14T21:22:39.520372"
    }
   },
   "source": [
    "** Question 2 : ** Quelle est la probabilité que $X_1 = \\min(X_1,\\ldots,X_t)$ ?"
   ]
  },
  {
   "cell_type": "markdown",
   "metadata": {},
   "source": [
    "** Question 3 :** Montrer que l'algorithme suivant permet de générer un nombre de manière uniforme parmi les $w$ derniers reçus, et l'implémenter."
   ]
  },
  {
   "cell_type": "markdown",
   "metadata": {
    "ExecuteTime": {
     "end_time": "2017-11-14T21:26:06.901258",
     "start_time": "2017-11-14T21:26:06.895474"
    }
   },
   "source": [
    "```\n",
    "Pour s = 1 à t\n",
    "    v(s) = n_t;\n",
    "    r(s) = random[0,1];\n",
    "j = Argmin (r(i), i in [t-w+1,t]);\n",
    "Renvoyer v(j)\n",
    "```"
   ]
  },
  {
   "cell_type": "markdown",
   "metadata": {},
   "source": [
    "** Question 4 : ** Améliorer cet algorithme en ne gardant que l'information nécessaire. Quelle est alors le nombre moyen de valeurs à mémoriser (c'est-à-dire le nombre de nombres mémorisés après réception des $t$ nombres)? "
   ]
  },
  {
   "cell_type": "markdown",
   "metadata": {
    "collapsed": true
   },
   "source": [
    "## Problème de sélection"
   ]
  },
  {
   "cell_type": "markdown",
   "metadata": {},
   "source": [
    "On observe un flot de données et on veut renvoyer le numéro du nombre maximum. On décide pour chaque nombre de le retenir ou non. Si on le retient, l'algortihme s'arrête et renvoie ce nombre. Sinon il continue, mais ce nombre ne pourra plus être retenu. "
   ]
  },
  {
   "cell_type": "markdown",
   "metadata": {
    "ExecuteTime": {
     "end_time": "2017-11-19T19:04:59.951391",
     "start_time": "2017-11-19T19:04:59.945254"
    }
   },
   "source": [
    "On dit qu'un algorithme ALG est $\\alpha$-compétitif si\n",
    " $$\\mathbf{E}[ALG(v(1),\\ldots,v(n))]\\geq \\alpha \\max_i v(i).$$ "
   ]
  },
  {
   "cell_type": "markdown",
   "metadata": {},
   "source": [
    "** Question 1 : ** Montrer q'un algorithme déterministe est nécessairement 0-compétitif."
   ]
  },
  {
   "cell_type": "markdown",
   "metadata": {},
   "source": [
    "** Question 2 : **  En adaptant le principe de Yao, montrer que la probabilité qu'un algortihme randomisé renvoie le plus grand nombre est au plus 1/n. Donner un algortihme randomisé $1/n$-compétitif."
   ]
  },
  {
   "cell_type": "markdown",
   "metadata": {},
   "source": [
    "** Question 3 : ** En déduire qu'un algorithme randomisé du problème de la sélection est au plus \n",
    "    $1/n$-compétitif (et expliquer pourquoi la performance de l'algortihme se déduit directement de l'algorithme de la sélection du meilleur et ne peut faire strictement mieux)."
   ]
  },
  {
   "cell_type": "markdown",
   "metadata": {},
   "source": [
    "On s'intéresse maintenant à une version moins pessimiste où l'ordre d'arrivée $(v(i))$ des éléments est aléatoire (et les ordres uniforméments choisis). On suppose aussi que toutes les valeurs $v(i)$ sont distinctes.\n",
    "\n",
    "On adopte le schéma suivant : on observe les $\\tau$ premières valeurs, et on renvoie le premier élément suivant qui a une valeur plus grande que celles déjà reçues. "
   ]
  },
  {
   "cell_type": "markdown",
   "metadata": {},
   "source": [
    "** Question 4 : ** Implémenter et tester cet algorithme. Pour quelle valeur approximative de $\\tau$ est-il meilleur ? (cette valeur peut dépendre de $n$)"
   ]
  },
  {
   "cell_type": "markdown",
   "metadata": {},
   "source": [
    "On va calculer une borne supérieure de la probabilité que c'est bien le maximum qui a été choisi.\n",
    "\n",
    "On note $\\pi(t) = \\max_{s\\leq t} v(s)$."
   ]
  },
  {
   "cell_type": "markdown",
   "metadata": {},
   "source": [
    "** Question 5 : ** Montrer que la probabilité que la sélection soit correcte peut s'exprimer comme \n",
    "$$\\sum_{t=\\tau+1}^n \\mathbf{P} (v(t)=\\pi(n) \\text{ et } \\pi(t-1) \\leq \\max \\pi(\\tau)).$$ "
   ]
  },
  {
   "cell_type": "markdown",
   "metadata": {},
   "source": [
    "** Question 6 : ** Que vaut $\\mathbf{P} (v(t)=\\pi(n))$ ? Que vaut $\\mathbf{P} (\\pi(t-1) \\leq \\max \\pi(\\tau)~|~v(t)=\\pi(n))$ ?"
   ]
  },
  {
   "cell_type": "markdown",
   "metadata": {
    "ExecuteTime": {
     "end_time": "2017-11-19T19:42:13.984758",
     "start_time": "2017-11-19T19:42:13.979924"
    }
   },
   "source": [
    "** Question 7 :** Comment fixer $\\tau$ pour obtenir un algorithme $1/e-1/n$-compétitif ?"
   ]
  },
  {
   "cell_type": "code",
   "execution_count": null,
   "metadata": {
    "collapsed": true
   },
   "outputs": [],
   "source": []
  }
 ],
 "metadata": {
  "kernelspec": {
   "display_name": "Python 3",
   "language": "python",
   "name": "python3"
  },
  "language_info": {
   "codemirror_mode": {
    "name": "ipython",
    "version": 3
   },
   "file_extension": ".py",
   "mimetype": "text/x-python",
   "name": "python",
   "nbconvert_exporter": "python",
   "pygments_lexer": "ipython3",
   "version": "3.6.0"
  },
  "latex_envs": {
   "LaTeX_envs_menu_present": true,
   "bibliofile": "biblio.bib",
   "cite_by": "apalike",
   "current_citInitial": 1,
   "eqLabelWithNumbers": false,
   "eqNumInitial": 1,
   "hotkeys": {},
   "labels_anchors": false,
   "latex_user_defs": false,
   "report_style_numbering": false,
   "user_envs_cfg": false
  },
  "toc": {
   "colors": {
    "hover_highlight": "#DAA520",
    "running_highlight": "#FF0000",
    "selected_highlight": "#FFD700"
   },
   "moveMenuLeft": true,
   "nav_menu": {
    "height": "94px",
    "width": "251px"
   },
   "navigate_menu": true,
   "number_sections": true,
   "sideBar": true,
   "threshold": 4,
   "toc_cell": false,
   "toc_position": {
    "height": "512px",
    "left": "0px",
    "right": "1068px",
    "top": "107px",
    "width": "212px"
   },
   "toc_section_display": "none",
   "toc_window_display": false
  }
 },
 "nbformat": 4,
 "nbformat_minor": 2
}
